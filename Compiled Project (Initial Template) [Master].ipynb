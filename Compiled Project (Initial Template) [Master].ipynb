{
 "cells": [
  {
   "cell_type": "markdown",
   "id": "bc96d9ff-33b2-4f96-b833-19e795e274c3",
   "metadata": {},
   "source": [
    "# 2401PTDS_Regression_Project\n",
    "\n",
    "![](https://img.shields.io/badge/Python-3776AB.svg?style=for-the-badge&logo=Python&logoColor=white)\n",
    "\n",
    "<div id=\"main image\" align=\"center\">\n",
    "  <img src=\"https://github.com/marcmarais/2401FTDS_Regression_Project/blob/main/agri_image.png\" width=\"450\" height=\"300\" alt=\"\"/>\n",
    "</div>\n",
    "\n",
    "## Table of contents\n",
    "* [1. Project Overview](#project-description)\n",
    "* [2. Dataset](#dataset)\n",
    "* [3. Packages](#packages)\n",
    "* [4. Cloning the repo](#cloning-repo)\n",
    "* [5. Environment](#environment)\n",
    "* [6. Team Members](#team-members)\n",
    "\n",
    "## 1. Project Overview <a class=\"anchor\" id=\"project-description\"></a>\n",
    "Your team of environmental consultants and data scientists are tasked by a coalition of agricultural stakeholders to analyse and predict the effect of CO2 emissions on climate change from the agri-food sector. The stakeholders include policymakers, agricultural businesses, and environmental organisations. Your project aims to understand the impact of agricultural activities on climate change and develop strategies for sustainable practices. Utilising a comprehensive dataset compiled from the Food and Agriculture Organization (FAO) and the Intergovernmental Panel on Climate Change (IPCC), you will explore various emission sources, perform regression analysis to predict temperature variations, and offer actionable insights for the stakeholders.\n",
    "\n",
    "By the end of this project, you will have a thorough understanding of the impact of agricultural activities on CO2 emissions and climate change. Your findings and recommendations will contribute to the ongoing efforts to promote sustainability within the agri-food sector, providing valuable insights for the stakeholders involved in this initiative.\n",
    "\n",
    "## 2. Dataset <a class=\"anchor\" id=\"dataset\"></a>\n",
    "Emissions from the agri-food sector play a crucial role in climate change, as they represent a significant share of global annual emissions. The dataset highlights the substantial contribution of the various sources of emissions. Therefore, it is essential to understand and address the environmental impact of the agri-food industry to mitigate climate change and promote sustainable practices within this sector.\n",
    "\n",
    "**Dataset Features:**\n",
    "- Savanna fires: Emissions from fires in savanna ecosystems.\n",
    "- Forest fires: Emissions from fires in forested areas.\n",
    "- Crop Residues: Emissions from burning or decomposing leftover plant material after crop harvesting.\n",
    "- Rice Cultivation: Emissions from methane released during rice cultivation.\n",
    "- Drained organic soils (CO2): Emissions from carbon dioxide released when draining organic soils.\n",
    "- Pesticides Manufacturing: Emissions from the production of pesticides.\n",
    "- Food Transport: Emissions from transporting food products.\n",
    "- Forestland: Land covered by forests.\n",
    "- Net Forest conversion: Change in forest area due to deforestation and afforestation.\n",
    "- Food Household Consumption: Emissions from food consumption at the household level.\n",
    "- Food Retail: Emissions from the operation of retail establishments selling food.\n",
    "- On-farm Electricity Use: Electricity consumption on farms.\n",
    "- Food Packaging: Emissions from the production and disposal of food packaging materials.\n",
    "- Agrifood Systems Waste Disposal: Emissions from waste disposal in the agrifood system.\n",
    "- Food Processing: Emissions from processing food products.\n",
    "- Fertilizers Manufacturing: Emissions from the production of fertilizers.\n",
    "- IPPU: Emissions from industrial processes and product use.\n",
    "- Manure applied to Soils: Emissions from applying animal manure to agricultural soils.\n",
    "- Manure left on Pasture: Emissions from animal manure on pasture or grazing land.\n",
    "- Manure Management: Emissions from managing and treating animal manure.\n",
    "- Fires in organic soils: Emissions from fires in organic soils.\n",
    "- Fires in humid tropical forests: Emissions from fires in humid tropical forests.\n",
    "- On-farm energy use: Energy consumption on farms.\n",
    "- Rural population: Number of people living in rural areas.\n",
    "- Urban population: Number of people living in urban areas.\n",
    "- Total Population - Male: Total number of male individuals in the population.\n",
    "- Total Population - Female: Total number of female individuals in the population.\n",
    "- total_emission: Total greenhouse gas emissions from various sources.\n",
    "- Average Temperature °C: The average increasing of temperature (by year) in degrees Celsius,\n",
    " \n",
    "\n",
    "CO2 is recorded in kilotonnes (kt): 1 kt represents 1000 kg of CO2.\n",
    "\n",
    "The feature \"Average Temperature C°\", represents the average yearly temperature increase. For example, if it is 0.12, it means that the temperature in that specific location increased by 0.12 degrees Celsius.\n",
    "\n",
    "Forestland is the only feature that exhibits negative emissions due to its role as a carbon sink. Through photosynthesis, forests absorb and store carbon dioxide, effectively removing it from the atmosphere. Sustainable forest management, along with afforestation and reforestation efforts, further contribute to negative emissions by increasing carbon sequestration capacity.\n",
    "\n",
    "## 3. Packages <a class=\"anchor\" id=\"packages\"></a>\n",
    "\n",
    "To carry out all the objectives for this repo, the following necessary dependencies need to be loaded. Take note that these dependencies will be loaded when following the guides provided below in [5. Environment](#environment) section:\n",
    "+ `pandas 2.1.4`\n",
    "+ `numpy 1.26.4`\n",
    "+ `seaborn 0.13.2`\n",
    "+ `matplotlib 3.9.0`\n",
    "+ `matplotlib-inline 0.1.6`\n",
    "\n",
    "Alternatively, you can also ensure these dependencies are installed when running the notebook file's Chapter 2 section.\n",
    " \n",
    "## 4. Cloning the repo <a class=\"anchor\" id=\"cloning-repo\"></a>\n",
    "\n",
    "The below section will provide a guide on methods to follow to illustrate how to clone the repo found in this project, allowing the user to run all the notebook files contained therein.\n",
    "\n",
    "### Clone the repo using Donwload as ZIP and extracting the ZIP folder\n",
    "\n",
    "1. On the `GitHub` landing page, once this repo is open, make sure you can see `main` at the branch select drop-down. Click on this branch select drop-down and make sure `main` is selected.\n",
    "\n",
    "![Alt text](images/repo_main.png)\n",
    "\n",
    "2. Click on the `<> Code` button. Click on the `Local` tab. Click on the `Download as ZIP` button. This will now download the entire repo from the `main` branch onto your machine and store it in your `Downloads` folder directory.\n",
    "\n",
    "![Alt text](images/repo_donwload_zip.png)\n",
    "\n",
    "3. Create a new directory on your local machine at any location of your choice. This will be the folder location you will use to extract the ZIP folder containing the repo. The suggestion is to use location path <a class=\"anchor\" id=\"directory\">`C:\\Demo`</a>. This will create a folder name of your choice in your local C Drive directory. `Demo` is for illustrative purposes, but it can be any folder name you choose.\n",
    "\n",
    "![Alt text](images/local_direct_created.png)\n",
    "\n",
    "![Alt text](images/zip_downloaded.png)\n",
    "\n",
    "4. Navigate to your `Downloads` folder and right-click on the file named `moosa-and-the-pips-main.zip`. Click on `Extract All...`.\n",
    "\n",
    "![Alt text](images/zip_extract_rightclick.PNG)\n",
    "\n",
    "5. When the `Extract Compressed (Zipped) Folders` wizard opens, type <a class=\"anchor\" id=\"directory\">`C:\\Demo`</a> in the text box beneath `Files will be extracted to this folder:`. Click on `Extract` button.\n",
    "\n",
    "![Alt text](images/zip_extract_dest.png)\n",
    "\n",
    "6. Navigate back to your local file directory <a class=\"anchor\" id=\"directory\">`C:\\Demo`</a> created earlier. Note that a file called `moosa-and-the-pips` have appeared in your previously empty local directory <a class=\"anchor\" id=\"directory\">`C:\\Demo`</a> folder. Double-click on this folder to open it.\n",
    "\n",
    "![Alt text](images/local_direct_cloned.png)\n",
    "\n",
    "7. Note that everything that is currently on the `main` branch of this repo is now also on your local machine\n",
    "\n",
    "## 5. Environment <a class=\"anchor\" id=\"environment\"></a>\n",
    "\n",
    "It's highly recommended to use a virtual environment for your projects, there are many ways to do this; we've outlined one such method below. Make sure to regularly update this section. This way, anyone who clones your repository will know exactly what steps to follow to prepare the necessary environment. The instructions provided here should enable a person to clone your repo and quickly get started.\n",
    "\n",
    "## Setting up the coding environment\n",
    "The below section details how to recreate the coding environment necessary to run all the Jupyter Notebook files contained in this project. Three (3) methods will be discussed below to assist with setting up the necessary coding environment.\n",
    "\n",
    "### Set-up using Python and CMD (Command prompt)\n",
    "\n",
    "**Note:** For this method, the only installation you will need to do before creating the environment is to install the latest version of `Python` on your local machine that you plan to use to run the Notebook files.\n",
    "\n",
    "1. Ensure you have the latest version of `Python` installed (as of writing on 12-08-2024, the latest version was 3.12.5). The latest version of `Python` can be found by clicking here: <a href=\"https://www.python.org/downloads/\">Python</a>. Click on Download 3.12.5 and follow the prompts to ensure `Python` is installed on your machine.\n",
    "\n",
    "![Alt text](images/python_install.png)\n",
    "\n",
    "2. Click on `Start` menu\n",
    "\n",
    "![Alt text](images/search.PNG)\n",
    "\n",
    "3. Type `Command prompt` in the search bar\n",
    "\n",
    "![Alt text](images/command_prompt.png)\n",
    "\n",
    "4. Click on `Open` in the Command prompt menu that appears in the search results. (**NOTE:** You may need to select `Run as administrator`)\n",
    "\n",
    "![Alt text](images/command_prompt.png)\n",
    "\n",
    "5. CMD opens up\n",
    "\n",
    "![Alt text](images/cmd_blank.png)\n",
    "\n",
    "6. Type the command `cd C:\\Users`. Press `Enter`. **Note:** you can use any path you wish here, using `C:\\Users` for demo purposes, but you will most likely use the path <a class=\"anchor\" id=\"directory\">`C:\\Demo`</a> you created earlier when you cloned the repo.\n",
    "\n",
    "![Alt text](images/cmd_cd.png)\n",
    "![Alt text](images/cmd_direct_chng.png)\n",
    "\n",
    "7. Type the command `py -m venv .Explore`. Press `Enter`.\n",
    "\n",
    "![Alt text](images/cmd_new_env.png)\n",
    "\n",
    "8. Wait for the command to finish running. You will know it is done when you are able to see the command prompt flashing again. Also take note that in your local directory where your repo is stored, there will be a new folder called `.Explore`\n",
    "\n",
    "![Alt text](images/cmd_new_env_done.png)\n",
    "![Alt text](images/new_env_folder.png)\n",
    "\n",
    "9. Type the command `.Explore\\Scripts\\activate`. Press `Enter`.\n",
    "\n",
    "![Alt text](images/cmd_new_env_activate.png)\n",
    "\n",
    "10. Wait for the command to finish running. You will notice that your command prompt now has `(.Explore)` prepended to it. You have now activated this new environment created earlier.\n",
    "\n",
    "![Alt text](images/cmd_new_env_activated.png)\n",
    "\n",
    "11. Type the command `pip install jupyter`. Press `Enter`.\n",
    "\n",
    "![Alt text](images/cmd_pip_jupyter.png)\n",
    "\n",
    "12. Please be patient as this command will install Jupyter Notebook in your newly created `.Explore` environment. Take note that this installation could take a few minutes to complete - remain patient. Jupyter Notebook is what will be used to display our notebooks and run all the code contained within.\n",
    "\n",
    "13. The installation will show the message `Installing collected packages:` while it is busy installing the Jupyter packages in the CMD.\n",
    "\n",
    "![Alt text](images/cmd_pip_jupyter_installing.png)\n",
    "\n",
    "14. The installation will complete when the message `Successfully installed` is displayed. The cursor will also return to your CMD to allow you start typing again.\n",
    "\n",
    "![Alt text](images/cmd_pip_jupyter_installed.png)\n",
    "\n",
    "15. Type the command `pip install -r requirements.txt`. Press `Enter`. **NOTE:** It is critical that the `requirements.txt` file is located in your directory <a class=\"anchor\" id=\"directory\">`C:\\Demo`</a> where you cloned your repo as well as where you are currently creating your environment. If the file is not present, no installation of the required packages will take place.\n",
    "\n",
    "![Alt text](images/cmd_pip_requirements.png)\n",
    "\n",
    "16. Please be patient as this command will install all the required packages to run all the code contained in the Notebooks on this repo in your newly created `.Explore` environment. Take note that this installation could take a few minutes to complete - remain patient. The `requirements.txt` file contains the package name and package version that will be needed to the run necessary code and must be installed for this environment to function properly when running code from the notebooks.\n",
    "\n",
    "17. The installation will show the message `Installing collected packages:` while it is busy installing the packages contained in the `requirements.txt` file in the CMD.\n",
    "\n",
    "![Alt text](images/cmd_pip_requirements_installing.png)\n",
    "\n",
    "18. The installation will complete when the message `Successfully installed` is displayed. The cursor will also return to your CMD to allow you start typing again.\n",
    "\n",
    "![Alt text](images/cmd_pip_requirements_installed.png)\n",
    "\n",
    "19. Type the command `jupyter notebook`. Press `Enter`.\n",
    "\n",
    "![Alt text](images/conda_jupyter_notebook.png)\n",
    "\n",
    "20. This command will launch a new instance of Jupyter Notebook on your local default browser of choice and open Jupyter Notebook environment inside the directory <a class=\"anchor\" id=\"directory\">`C:\\Demo`</a> where you have cloned your repo. Please be patient as this can take a few seconds.\n",
    "\n",
    "21. Please take note that once you see Jupyter Notebook open up in your browser, you are free to start browsing for and opening all Notebook files in this project and have successfully created a new virtual environment.\n",
    "\n",
    "![Alt text](images/cmd_env_opened.png)\n",
    "\n",
    "## 6. Team Members<a class=\"anchor\" id=\"team-members\"></a>\n",
    "\n",
    "| Name                                                                                        |  Email              \n",
    "|---------------------------------------------------------------------------------------------|--------------------             \n",
    "| [Robert Breedt](https://github.com/Robert-Breedt)                                           | breedtrobert@yahoo.com\n",
    "| [Lindelwa Ndhlovu]()                                                                        | \n",
    "| [Christiaan De Beer](https://github.com/Christiaandebeer1986)                               | debeerchristiaan@gmail.com \n",
    "| [Philani Hlengwa](https://github.com/Philani-Hlengwa)                                       | senzo.philani@gmail.com\n",
    "| [Nomvunulo Mpontshane](https://github.com/Nomvunulo-Mpontshane)                             | nomvunulom@gmail.com\n",
    "\n",
    "\n",
    "\n",
    "#### Additional Resources to create a README file:\n",
    "- [Make a README](https://www.makeareadme.com/)\n",
    "- [GitHub Docs](https://docs.github.com/en/repositories/managing-your-repositorys-settings-and-features/customizing-your-repository/about-readmes)\n",
    "- [FreeCodeCamp](https://www.freecodecamp.org/news/how-to-write-a-good-readme-file/)\n"
   ]
  },
  {
   "cell_type": "markdown",
   "id": "6462c289-71d8-4583-b4f1-2f3d2ad7ed77",
   "metadata": {},
   "source": [
    "#### Explore AI Academy: Final Regression Project"
   ]
  },
  {
   "cell_type": "markdown",
   "id": "12084a7c-4a63-4d40-8664-bb50eebd692c",
   "metadata": {},
   "source": [
    "<div style=\"font-size: 35px\">\n",
    "    <font color='Black'> <b>Let's come up with a good name for our project???</b></font> \n",
    "<br>\n",
    "</div>"
   ]
  },
  {
   "cell_type": "markdown",
   "id": "7962de61-3372-42d7-9105-b5ecb7005208",
   "metadata": {},
   "source": [
    "<a id=\"cont\"></a>\n",
    "\n",
    "## Table of Contents\n",
    "* <b>[1. Project Overview](#chapter1)\n",
    "    * [1.1 Project background](#section_1_1)\n",
    "    * [1.2 Problem statment and objective of the study](#section_1_2)\n",
    "    * [1.3 Data source](#section_1_3)\n",
    "    * [1.4 Importance of the study](#section_1_4)\n",
    "    * [1.5 Research questions and Hypotheses](#section_1_5)\n",
    "    * [1.6 Methodology overview](#section_1_6)\n",
    "    * [1.7 Structure of the notebook](#section_1_7)\n",
    "* <b>[2. Importing Packages](#chapter2)\n",
    "* <b>[3. Loading Data](#chapter3)\n",
    "* <b>[4. Data Cleaning](#chapter4)\n",
    "* <b>[5. Exploratory Data Analysis (EDA)](#chapter5)\n",
    "* <b>[6. Feature Engineering](#chapter6)</b>\n",
    "* <b>[7. Modeling](#chapter7)<b>\n",
    "* <b>[8. Model Performance](#chapter8)<b>\n",
    "* <b>[9. Conclusion](#chapter9)</b>\n",
    "* <b>[10. References](#chapter10)<b>\n",
    "\n",
    "## 1. Project Overview <a class=\"anchor\" id=\"chapter1\"></a>\n",
    "\n",
    "### 1.1 Project background <a class=\"anchor\" id=\"section_1_1\"></a>\n",
    "\n",
    "### 1.2 Problem statment and objective of the study <a class=\"anchor\" id=\"section_1_2\"></a>\n",
    "\n",
    "### 1.3 Data source <a class=\"anchor\" id=\"section_1_3\"></a>\n",
    "\n",
    "### 1.4 Importance of the study <a class=\"anchor\" id=\"section_1_4\"></a>\n",
    "\n",
    "### 1.5 Research questions and Hypotheses <a class=\"anchor\" id=\"section_1_5\"></a>\n",
    "\n",
    "#### Research Questions:\n",
    "\n",
    "    \n",
    "#### Hypotheses\n",
    "\n",
    "    \n",
    "### 1.6 Methodology overview <a class=\"anchor\" id=\"section_1_6\"></a>\n",
    "\n",
    "### 1.7 Structure of the notebook <a class=\"anchor\" id=\"section_1_7\"></a>\n",
    "\n",
    "The project notebook used for this study will be structured as follows:\n",
    "- [Table of contents](#cont)\n",
    "- [Chapter 1](#chapter1)\n",
    "- [Chapter 2](#chapter2) \n",
    "- [Chapter 3](#chapter3) \n",
    "- [Chapter 4](#chapter4) \n",
    "- [Chapter 5](#chapter5)\n",
    "- [Chapter 6](#chapter6)\n",
    "- [Chapter 7](#chapter7)\n",
    "- [Chapter 8](#chapter8) \n",
    "- [Chapter 9](#chapter9)\n",
    "- [Chapter 10](#chapter10)\n",
    "  \n",
    "[Back to Table of contents](#cont)"
   ]
  },
  {
   "cell_type": "markdown",
   "id": "ad1bd2d4-4c80-4621-ab72-6109688f3355",
   "metadata": {},
   "source": [
    "## 2. Importing Packages <a class=\"anchor\" id=\"chapter2\"></a>"
   ]
  },
  {
   "cell_type": "markdown",
   "id": "12ca07af-d562-4b50-a5bb-fbbc73db8cf2",
   "metadata": {},
   "source": [
    "<div class=\"alert alert-block alert-danger\">\n",
    "<b><b>DO NOT</b> re-run this line of code unless you want to export your own environment into a new requirements.txt file as it will\n",
    "override the one currently in your directory!\n",
    "<br><br>\n",
    "Uncomment the below line of code if you wish to run it. The requirements.txt file needed for this project already exists in the repo,\n",
    "but you are welcome to uncomment and run it to see it work.\n",
    "</div>"
   ]
  },
  {
   "cell_type": "code",
   "execution_count": 145,
   "id": "3b61a9dc-aeb2-4e63-bcc7-253fa6fa4aec",
   "metadata": {},
   "outputs": [],
   "source": [
    "#pip freeze > requirements.txt"
   ]
  },
  {
   "cell_type": "markdown",
   "id": "05ef8386-df8f-45a1-9f7e-262f3ef57022",
   "metadata": {},
   "source": [
    "<div class=\"alert alert-block alert-danger\">\n",
    "This below line of code is critical to run to ensure you are using the correct packages to run our notebook code. \n",
    "\n",
    "The below line of code will be used to install the correct version of each package for usage in this notebook as per the packages listed in the\n",
    "requirements.txt document\n",
    "\n",
    "<b>NOTE:</b> Right now the requirements.txt file does not yet exist, so do not attempt to run the code below! Just note that it has been commented out for now\n",
    "</div>"
   ]
  },
  {
   "cell_type": "code",
   "execution_count": null,
   "id": "75961b2f-ece3-4e20-8059-7ad048d16361",
   "metadata": {},
   "outputs": [],
   "source": [
    "#pip install -r requirements.txt"
   ]
  },
  {
   "cell_type": "markdown",
   "id": "5c313e6e-7f8b-4cd7-8596-afffbda15419",
   "metadata": {},
   "source": [
    "<div class=\"alert alert-block alert-info\">\n",
    "These have been pre-determined to be libraries that are necessary - To be added on further as we go along\n",
    "</div>"
   ]
  },
  {
   "cell_type": "code",
   "execution_count": 1,
   "id": "f74d7ca5-3a7f-4433-9586-cd15db9fdad3",
   "metadata": {},
   "outputs": [],
   "source": [
    "# Libraries for data loading, manipulation and analysis\n",
    "\n",
    "import re # No need to add to requirements.txt as this comes pre-installed with python when creating the environment\n",
    "import numpy as np\n",
    "import pandas as pd\n",
    "import csv # No need to add to requirements.txt as this comes pre-installed with python when creating the environment\n",
    "import seaborn as sns\n",
    "import matplotlib.pyplot as plt\n",
    "\n",
    "# Displays output inline\n",
    "%matplotlib inline\n",
    "\n",
    "# Libraries for Handing Errors\n",
    "import warnings\n",
    "warnings.filterwarnings('ignore')"
   ]
  },
  {
   "cell_type": "markdown",
   "id": "ee07e660-0684-4013-9703-aff479083fec",
   "metadata": {},
   "source": [
    "[Back to Table of contents](#cont)"
   ]
  },
  {
   "cell_type": "markdown",
   "id": "b70a9629-6483-4347-a0fc-05cd22ff8bd0",
   "metadata": {},
   "source": [
    "## 3. Loading data <a class=\"anchor\" id=\"chapter3\"></a>\n",
    "\n",
    "The next chapter will focus on loading the data from the dataset input to our notebook for further manipulation and eventual analysis and exploration later on."
   ]
  },
  {
   "cell_type": "markdown",
   "id": "722e3157-b692-462c-9362-bdef225c9efa",
   "metadata": {},
   "source": [
    "### Creating dataframe and loading dataset\n"
   ]
  },
  {
   "cell_type": "code",
   "execution_count": 1,
   "id": "e7679b12-f240-4a74-b6e1-dfc74ed98aef",
   "metadata": {},
   "outputs": [],
   "source": [
    "# Add the line of code to load the dataset in"
   ]
  },
  {
   "cell_type": "markdown",
   "id": "a667b876-5932-4ef2-b10a-8346531ca21f",
   "metadata": {},
   "source": [
    "### Creating a copy of the dataset"
   ]
  },
  {
   "cell_type": "markdown",
   "id": "3d56be86-901b-48e5-80c8-37403eba91f2",
   "metadata": {},
   "source": [
    "<div class=\"alert alert-block alert-danger\">\n",
    "<b>To prevent any major unnecessary changes occurring to the original data</b> , a copy of the dataframe was made using the <b>.copy()</b> method and referred to as <b>avo_df_copy</b>.\n",
    "</div>"
   ]
  },
  {
   "cell_type": "code",
   "execution_count": 2,
   "id": "dd911035-4d6c-41c3-bba1-26e16917e7bc",
   "metadata": {},
   "outputs": [],
   "source": [
    "# Add the code to make a copy of the dataset"
   ]
  },
  {
   "cell_type": "markdown",
   "id": "2755f227-ab54-45fb-a984-733d14c13579",
   "metadata": {},
   "source": [
    "[Back to Table of contents](#cont)"
   ]
  },
  {
   "cell_type": "markdown",
   "id": "f6ae2d23-4f81-46fd-b6e0-83b48b2f02b7",
   "metadata": {},
   "source": [
    "## 4. Data Cleaning <a class=\"anchor\" id=\"chapter4\"></a>"
   ]
  },
  {
   "cell_type": "markdown",
   "id": "9c1d4999-3d6d-4570-9251-c8bae133288c",
   "metadata": {},
   "source": [
    "<div class=\"alert alert-block alert-info\">\n",
    "<b>Data cleaning</b> is a crucial step in the data analysis process, involving the correction or removal of incorrect, corrupted, duplicate, or incomplete data within a dataset. Through various techniques such as filling missing values, removing outliers, and standardizing data formats, it ensures the accuracy and reliability of subsequent analyses and decision-making.\n",
    "</div>\n"
   ]
  },
  {
   "cell_type": "markdown",
   "id": "22d67ef1-07aa-4e53-97f3-6daabe83ebca",
   "metadata": {},
   "source": [
    "[Back to Table of contents](#cont)"
   ]
  },
  {
   "cell_type": "markdown",
   "id": "c64dd2f1-bcbb-42a9-95e5-ff7e97c25d7c",
   "metadata": {},
   "source": [
    "## 5. Exploratory Data Analysis (EDA) <a class=\"anchor\" id=\"chapter5\"></a>\n",
    "\n",
    "To give a better understanding of the variables and the relationships between them, we set out to do an **Exploratory Data Analysis (EDA)** of our dataset. The main tasks includes investigating and summarizing the dataframe's main characteristics by data visualization methods and statistical analyses. Furthermore, investigating the dataset’s key features, summarizing its central characteristics, and employing both data visualisation techniques and statistical analyses to draw meaningful insights that can guide further research and data-driven decision making."
   ]
  },
  {
   "cell_type": "markdown",
   "id": "a36d70a7-11d8-4828-aa25-422eb9538be9",
   "metadata": {},
   "source": [
    "\n",
    "[Back to Table of contents](#cont)"
   ]
  },
  {
   "cell_type": "markdown",
   "id": "a4c4e3cf-ad2a-44b8-bd21-fccdb020a518",
   "metadata": {},
   "source": [
    "## 6. Feature Engineering <a class=\"anchor\" id=\"chapter6\"></a>\n",
    "[Back to Table of contents](#cont)"
   ]
  },
  {
   "cell_type": "markdown",
   "id": "28a6b73f-494a-4587-a6c8-b1ba22fff86f",
   "metadata": {},
   "source": [
    "## 7. Modeling <a class=\"anchor\" id=\"chapter7\"></a>\n",
    "\n",
    "[Back to Table of contents](#cont)"
   ]
  },
  {
   "cell_type": "markdown",
   "id": "10ba4e96-e6fa-48bc-96dc-6af2f7ba45d7",
   "metadata": {},
   "source": [
    "## 8. Model Performance <a class=\"anchor\" id=\"chapter8\"></a>\n",
    "\n",
    "[Back to Table of contents](#cont)"
   ]
  },
  {
   "cell_type": "markdown",
   "id": "1f2c07f5-4282-4df4-ba05-8ef6a321ab11",
   "metadata": {},
   "source": [
    "## 9. Conclusion <a class=\"anchor\" id=\"chapter9\"></a>\n",
    "\n",
    "This Chapter attempts to provide a final summation of all the insights and conclusions gathered during all the previous Chapters of this project. This is done so as to assist with providing a summized retelling of the narrative caried through and forward by prior Chapters in attempt to reflect and review on the analyses contained within this study.\n",
    "\n",
    "### Summary of Key Findings \n",
    "\n",
    "### Evaluation of the Methodology\n",
    "\n",
    "### Implications of the Findings\n",
    "\n",
    "### Suggestions for Future Work\n",
    "\n",
    "### Reflection on the Data Source and Quality\n",
    "\n",
    "### Concluding Thoughts\n",
    "\n",
    "[Back to Table of contents](#cont)"
   ]
  },
  {
   "cell_type": "markdown",
   "id": "2e6fa5f0-e4a7-46cd-956a-60b0f203d8e2",
   "metadata": {},
   "source": [
    "## 10. References <a class=\"anchor\" id=\"chapter10\"></a>\n",
    "\n",
    "\n",
    "[Back to Table of contents](#cont)"
   ]
  },
  {
   "cell_type": "code",
   "execution_count": null,
   "id": "554e1668-4e1b-484a-9a2f-cfb0c15ac562",
   "metadata": {},
   "outputs": [],
   "source": []
  }
 ],
 "metadata": {
  "kernelspec": {
   "display_name": "Python 3 (ipykernel)",
   "language": "python",
   "name": "python3"
  },
  "language_info": {
   "codemirror_mode": {
    "name": "ipython",
    "version": 3
   },
   "file_extension": ".py",
   "mimetype": "text/x-python",
   "name": "python",
   "nbconvert_exporter": "python",
   "pygments_lexer": "ipython3",
   "version": "3.11.8"
  }
 },
 "nbformat": 4,
 "nbformat_minor": 5
}
