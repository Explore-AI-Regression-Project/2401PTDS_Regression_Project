{
 "cells": [
  {
   "cell_type": "markdown",
   "id": "6462c289-71d8-4583-b4f1-2f3d2ad7ed77",
   "metadata": {},
   "source": [
    "#### Explore AI Academy: Final Regression Project"
   ]
  },
  {
   "cell_type": "markdown",
   "id": "12084a7c-4a63-4d40-8664-bb50eebd692c",
   "metadata": {},
   "source": [
    "<div style=\"font-size: 35px\">\n",
    "    <font color='Black'> <b>Let's come up with a good name for our project???</b></font> \n",
    "<br>\n",
    "</div>"
   ]
  },
  {
   "cell_type": "markdown",
   "id": "7962de61-3372-42d7-9105-b5ecb7005208",
   "metadata": {},
   "source": [
    "<a id=\"cont\"></a>\n",
    "\n",
    "## Table of Contents\n",
    "* <b>[1. Project Overview](#chapter1)\n",
    "    * [1.1 Project background](#section_1_1)\n",
    "    * [1.2 Problem statment and objective of the study](#section_1_2)\n",
    "    * [1.3 Data source](#section_1_3)\n",
    "    * [1.4 Importance of the study](#section_1_4)\n",
    "    * [1.5 Research questions and Hypotheses](#section_1_5)\n",
    "    * [1.6 Methodology overview](#section_1_6)\n",
    "    * [1.7 Structure of the notebook](#section_1_7)\n",
    "* <b>[2. Importing Packages](#chapter2)\n",
    "* <b>[3. Loading Data](#chapter3)\n",
    "* <b>[4. Data Cleaning](#chapter4)\n",
    "* <b>[5. Exploratory Data Analysis (EDA)](#chapter5)\n",
    "* <b>[6. Feature Engineering](#chapter6)</b>\n",
    "* <b>[7. Modeling](#chapter7)<b>\n",
    "* <b>[8. Model Performance](#chapter8)<b>\n",
    "* <b>[9. Conclusion](#chapter9)</b>\n",
    "* <b>[10. References](#chapter10)<b>\n",
    "\n",
    "## 1. Project Overview <a class=\"anchor\" id=\"chapter1\"></a>\n",
    "\n",
    "### 1.1 Project background <a class=\"anchor\" id=\"section_1_1\"></a>\n",
    "\n",
    "### 1.2 Problem statment and objective of the study <a class=\"anchor\" id=\"section_1_2\"></a>\n",
    "\n",
    "### 1.3 Data source <a class=\"anchor\" id=\"section_1_3\"></a>\n",
    "\n",
    "### 1.4 Importance of the study <a class=\"anchor\" id=\"section_1_4\"></a>\n",
    "\n",
    "### 1.5 Research questions and Hypotheses <a class=\"anchor\" id=\"section_1_5\"></a>\n",
    "\n",
    "#### Research Questions:\n",
    "\n",
    "    \n",
    "#### Hypotheses\n",
    "\n",
    "    \n",
    "### 1.6 Methodology overview <a class=\"anchor\" id=\"section_1_6\"></a>\n",
    "\n",
    "### 1.7 Structure of the notebook <a class=\"anchor\" id=\"section_1_7\"></a>\n",
    "\n",
    "The project notebook used for this study will be structured as follows:\n",
    "- [Table of contents](#cont)\n",
    "- [Chapter 1](#chapter1)\n",
    "- [Chapter 2](#chapter2) \n",
    "- [Chapter 3](#chapter3) \n",
    "- [Chapter 4](#chapter4) \n",
    "- [Chapter 5](#chapter5)\n",
    "- [Chapter 6](#chapter6)\n",
    "- [Chapter 7](#chapter7)\n",
    "- [Chapter 8](#chapter8) \n",
    "- [Chapter 9](#chapter9)\n",
    "- [Chapter 10](#chapter10)\n",
    "  \n",
    "[Back to Table of contents](#cont)"
   ]
  },
  {
   "cell_type": "markdown",
   "id": "ad1bd2d4-4c80-4621-ab72-6109688f3355",
   "metadata": {},
   "source": [
    "## 2. Importing Packages <a class=\"anchor\" id=\"chapter2\"></a>"
   ]
  },
  {
   "cell_type": "markdown",
   "id": "12ca07af-d562-4b50-a5bb-fbbc73db8cf2",
   "metadata": {},
   "source": [
    "<div class=\"alert alert-block alert-danger\">\n",
    "<b><b>DO NOT</b> re-run this line of code unless you want to export your own environment into a new requirements.txt file as it will\n",
    "override the one currently in your directory!\n",
    "<br><br>\n",
    "Uncomment the below line of code if you wish to run it. The requirements.txt file needed for this project already exists in the repo,\n",
    "but you are welcome to uncomment and run it to see it work.\n",
    "</div>"
   ]
  },
  {
   "cell_type": "code",
   "execution_count": 145,
   "id": "3b61a9dc-aeb2-4e63-bcc7-253fa6fa4aec",
   "metadata": {},
   "outputs": [],
   "source": [
    "#pip freeze > requirements.txt"
   ]
  },
  {
   "cell_type": "markdown",
   "id": "05ef8386-df8f-45a1-9f7e-262f3ef57022",
   "metadata": {},
   "source": [
    "<div class=\"alert alert-block alert-danger\">\n",
    "This below line of code is critical to run to ensure you are using the correct packages to run our notebook code. \n",
    "\n",
    "The below line of code will be used to install the correct version of each package for usage in this notebook as per the packages listed in the\n",
    "requirements.txt document\n",
    "\n",
    "<b>NOTE:</b> Right now the requirements.txt file does not yet exist, so do not attempt to run the code below! Just note that it has been commented out for now\n",
    "</div>"
   ]
  },
  {
   "cell_type": "code",
   "execution_count": null,
   "id": "75961b2f-ece3-4e20-8059-7ad048d16361",
   "metadata": {},
   "outputs": [],
   "source": [
    "#pip install -r requirements.txt"
   ]
  },
  {
   "cell_type": "markdown",
   "id": "5c313e6e-7f8b-4cd7-8596-afffbda15419",
   "metadata": {},
   "source": [
    "<div class=\"alert alert-block alert-info\">\n",
    "These have been pre-determined to be libraries that are necessary - To be added on further as we go along\n",
    "</div>"
   ]
  },
  {
   "cell_type": "code",
   "execution_count": 1,
   "id": "f74d7ca5-3a7f-4433-9586-cd15db9fdad3",
   "metadata": {},
   "outputs": [],
   "source": [
    "# Libraries for data loading, manipulation and analysis\n",
    "\n",
    "import re # No need to add to requirements.txt as this comes pre-installed with python when creating the environment\n",
    "import numpy as np\n",
    "import pandas as pd\n",
    "import csv # No need to add to requirements.txt as this comes pre-installed with python when creating the environment\n",
    "import seaborn as sns\n",
    "import matplotlib.pyplot as plt\n",
    "\n",
    "# Displays output inline\n",
    "%matplotlib inline\n",
    "\n",
    "# Libraries for Handing Errors\n",
    "import warnings\n",
    "warnings.filterwarnings('ignore')"
   ]
  },
  {
   "cell_type": "markdown",
   "id": "ee07e660-0684-4013-9703-aff479083fec",
   "metadata": {},
   "source": [
    "[Back to Table of contents](#cont)"
   ]
  },
  {
   "cell_type": "markdown",
   "id": "b70a9629-6483-4347-a0fc-05cd22ff8bd0",
   "metadata": {},
   "source": [
    "## 3. Loading data <a class=\"anchor\" id=\"chapter3\"></a>\n",
    "\n",
    "The next chapter will focus on loading the data from the dataset input to our notebook for further manipulation and eventual analysis and exploration later on."
   ]
  },
  {
   "cell_type": "markdown",
   "id": "722e3157-b692-462c-9362-bdef225c9efa",
   "metadata": {},
   "source": [
    "### Creating dataframe and loading dataset\n"
   ]
  },
  {
   "cell_type": "code",
   "execution_count": 1,
   "id": "e7679b12-f240-4a74-b6e1-dfc74ed98aef",
   "metadata": {},
   "outputs": [],
   "source": [
    "# Add the line of code to load the dataset in"
   ]
  },
  {
   "cell_type": "markdown",
   "id": "a667b876-5932-4ef2-b10a-8346531ca21f",
   "metadata": {},
   "source": [
    "### Creating a copy of the dataset"
   ]
  },
  {
   "cell_type": "markdown",
   "id": "3d56be86-901b-48e5-80c8-37403eba91f2",
   "metadata": {},
   "source": [
    "<div class=\"alert alert-block alert-danger\">\n",
    "<b>To prevent any major unnecessary changes occurring to the original data</b> , a copy of the dataframe was made using the <b>.copy()</b> method and referred to as <b>avo_df_copy</b>.\n",
    "</div>"
   ]
  },
  {
   "cell_type": "code",
   "execution_count": 2,
   "id": "dd911035-4d6c-41c3-bba1-26e16917e7bc",
   "metadata": {},
   "outputs": [],
   "source": [
    "# Add the code to make a copy of the dataset"
   ]
  },
  {
   "cell_type": "markdown",
   "id": "2755f227-ab54-45fb-a984-733d14c13579",
   "metadata": {},
   "source": [
    "[Back to Table of contents](#cont)"
   ]
  },
  {
   "cell_type": "markdown",
   "id": "f6ae2d23-4f81-46fd-b6e0-83b48b2f02b7",
   "metadata": {},
   "source": [
    "## 4. Data Cleaning <a class=\"anchor\" id=\"chapter4\"></a>"
   ]
  },
  {
   "cell_type": "markdown",
   "id": "9c1d4999-3d6d-4570-9251-c8bae133288c",
   "metadata": {},
   "source": [
    "<div class=\"alert alert-block alert-info\">\n",
    "<b>Data cleaning</b> is a crucial step in the data analysis process, involving the correction or removal of incorrect, corrupted, duplicate, or incomplete data within a dataset. Through various techniques such as filling missing values, removing outliers, and standardizing data formats, it ensures the accuracy and reliability of subsequent analyses and decision-making.\n",
    "</div>\n"
   ]
  },
  {
   "cell_type": "markdown",
   "id": "22d67ef1-07aa-4e53-97f3-6daabe83ebca",
   "metadata": {},
   "source": [
    "[Back to Table of contents](#cont)"
   ]
  },
  {
   "cell_type": "markdown",
   "id": "c64dd2f1-bcbb-42a9-95e5-ff7e97c25d7c",
   "metadata": {},
   "source": [
    "## 5. Exploratory Data Analysis (EDA) <a class=\"anchor\" id=\"chapter5\"></a>\n",
    "\n",
    "To give a better understanding of the variables and the relationships between them, we set out to do an **Exploratory Data Analysis (EDA)** of our dataset. The main tasks includes investigating and summarizing the dataframe's main characteristics by data visualization methods and statistical analyses. Furthermore, investigating the dataset’s key features, summarizing its central characteristics, and employing both data visualisation techniques and statistical analyses to draw meaningful insights that can guide further research and data-driven decision making."
   ]
  },
  {
   "cell_type": "markdown",
   "id": "a36d70a7-11d8-4828-aa25-422eb9538be9",
   "metadata": {},
   "source": [
    "\n",
    "[Back to Table of contents](#cont)"
   ]
  },
  {
   "cell_type": "markdown",
   "id": "a4c4e3cf-ad2a-44b8-bd21-fccdb020a518",
   "metadata": {},
   "source": [
    "## 6. Feature Engineering <a class=\"anchor\" id=\"chapter6\"></a>\n",
    "[Back to Table of contents](#cont)"
   ]
  },
  {
   "cell_type": "markdown",
   "id": "28a6b73f-494a-4587-a6c8-b1ba22fff86f",
   "metadata": {},
   "source": [
    "## 7. Modeling <a class=\"anchor\" id=\"chapter7\"></a>\n",
    "\n",
    "[Back to Table of contents](#cont)"
   ]
  },
  {
   "cell_type": "markdown",
   "id": "10ba4e96-e6fa-48bc-96dc-6af2f7ba45d7",
   "metadata": {},
   "source": [
    "## 8. Model Performance <a class=\"anchor\" id=\"chapter8\"></a>\n",
    "\n",
    "[Back to Table of contents](#cont)"
   ]
  },
  {
   "cell_type": "markdown",
   "id": "1f2c07f5-4282-4df4-ba05-8ef6a321ab11",
   "metadata": {},
   "source": [
    "## 9. Conclusion <a class=\"anchor\" id=\"chapter9\"></a>\n",
    "\n",
    "This Chapter attempts to provide a final summation of all the insights and conclusions gathered during all the previous Chapters of this project. This is done so as to assist with providing a summized retelling of the narrative caried through and forward by prior Chapters in attempt to reflect and review on the analyses contained within this study.\n",
    "\n",
    "### Summary of Key Findings \n",
    "\n",
    "### Evaluation of the Methodology\n",
    "\n",
    "### Implications of the Findings\n",
    "\n",
    "### Suggestions for Future Work\n",
    "\n",
    "### Reflection on the Data Source and Quality\n",
    "\n",
    "### Concluding Thoughts\n",
    "\n",
    "[Back to Table of contents](#cont)"
   ]
  },
  {
   "cell_type": "markdown",
   "id": "2e6fa5f0-e4a7-46cd-956a-60b0f203d8e2",
   "metadata": {},
   "source": [
    "## 10. References <a class=\"anchor\" id=\"chapter10\"></a>\n",
    "\n",
    "\n",
    "[Back to Table of contents](#cont)"
   ]
  },
  {
   "cell_type": "code",
   "execution_count": null,
   "id": "554e1668-4e1b-484a-9a2f-cfb0c15ac562",
   "metadata": {},
   "outputs": [],
   "source": []
  }
 ],
 "metadata": {
  "kernelspec": {
   "display_name": "Python 3 (ipykernel)",
   "language": "python",
   "name": "python3"
  },
  "language_info": {
   "codemirror_mode": {
    "name": "ipython",
    "version": 3
   },
   "file_extension": ".py",
   "mimetype": "text/x-python",
   "name": "python",
   "nbconvert_exporter": "python",
   "pygments_lexer": "ipython3",
   "version": "3.11.8"
  }
 },
 "nbformat": 4,
 "nbformat_minor": 5
}
